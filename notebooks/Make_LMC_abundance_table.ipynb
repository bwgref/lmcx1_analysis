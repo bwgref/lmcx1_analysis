{
 "cells": [
  {
   "cell_type": "code",
   "execution_count": 89,
   "metadata": {},
   "outputs": [],
   "source": [
    "import pandas as pd"
   ]
  },
  {
   "cell_type": "code",
   "execution_count": 90,
   "metadata": {},
   "outputs": [
    {
     "name": "stdout",
     "output_type": "stream",
     "text": [
      "angr\n",
      "aspl\n",
      "feld\n",
      "aneb\n",
      "grsa\n",
      "lodd\n"
     ]
    }
   ],
   "source": [
    "df = pd.read_table('xspec_abundaces.txt', header=0)\n",
    "\n",
    "for col in df:\n",
    "    if not ( (col == 'Element') or (col == 'wilm')):\n",
    "        print(col)\n",
    "        df = df.drop(columns=col)\n",
    "df = df.rename(columns={'wilm': 'Abund'})"
   ]
  },
  {
   "cell_type": "code",
   "execution_count": 94,
   "metadata": {},
   "outputs": [],
   "source": [
    "# https://www.aanda.org/articles/aa/pdf/2010/01/aa13583-09.pdf\n",
    "# Table 2\n",
    "df2 = pd.read_table('hanke_lmc_abundaces.txt',sep=' ', header=None, names=['Element', 'Abund'])\n",
    "# Rescale to Xspec standards:\n",
    "df2.Abund = 10**(df2.Abund - 12)\n"
   ]
  },
  {
   "cell_type": "code",
   "execution_count": 95,
   "metadata": {},
   "outputs": [],
   "source": [
    "df3 = pd.DataFrame()\n",
    "for element in df['Element']:\n",
    "    if(element in df2['Element'].values):\n",
    "        df3 = df3.append(df2.loc[df2['Element'] == element])\n",
    "    else:\n",
    "        df3 = df3.append(df.loc[df['Element'] == element])\n",
    "#    loc = df.loc[df2['Element'] == element]\n",
    "#    ind = df2.index[df2['Element'] == element].tolist()\n",
    "#    if len(ind) > 0:\n",
    "#        df3.append(df2.iloc[ind])\n",
    "#        if element in df2['Element'].unique():\n",
    "#         print(element)\n",
    "    #    if element in df2:\n",
    "#        df3.append(df2[element])"
   ]
  },
  {
   "cell_type": "code",
   "execution_count": 102,
   "metadata": {},
   "outputs": [],
   "source": [
    "df3.to_csv('lmc_abund.txt', columns=['Abund'], index=False, header=False)"
   ]
  },
  {
   "cell_type": "code",
   "execution_count": null,
   "metadata": {},
   "outputs": [],
   "source": []
  }
 ],
 "metadata": {
  "kernelspec": {
   "display_name": "Python 3",
   "language": "python",
   "name": "python3"
  },
  "language_info": {
   "codemirror_mode": {
    "name": "ipython",
    "version": 3
   },
   "file_extension": ".py",
   "mimetype": "text/x-python",
   "name": "python",
   "nbconvert_exporter": "python",
   "pygments_lexer": "ipython3",
   "version": "3.7.3"
  }
 },
 "nbformat": 4,
 "nbformat_minor": 4
}
