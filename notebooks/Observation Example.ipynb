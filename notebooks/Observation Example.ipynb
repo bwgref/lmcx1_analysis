{
 "cells": [
  {
   "cell_type": "code",
   "execution_count": 13,
   "metadata": {},
   "outputs": [],
   "source": [
    "from importlib import reload\n",
    "from nustar_gen import info\n",
    "reload(info)\n",
    "import os"
   ]
  },
  {
   "cell_type": "code",
   "execution_count": 14,
   "metadata": {},
   "outputs": [],
   "source": [
    "# Alternatively, can be set directly in the info.Observation call:\n",
    "obs = info.Observation(path='../data/', seqid='30001039002')"
   ]
  },
  {
   "cell_type": "code",
   "execution_count": 15,
   "metadata": {},
   "outputs": [],
   "source": [
    "# Set the output path. Default is the same location as the data (i.e. the\n",
    "# event_cl subdirectory or obs.path+obs.seqid). You can modify this here: \n",
    "outpath= '../products/'+obs.seqid\n",
    "obs.set_outpath = outpath"
   ]
  },
  {
   "cell_type": "code",
   "execution_count": 16,
   "metadata": {},
   "outputs": [
    {
     "data": {
      "text/plain": [
       "{'A': ['../data/30001039002/event_cl/nu30001039002A01_cl.evt'],\n",
       " 'B': ['../data/30001039002/event_cl/nu30001039002B01_cl.evt']}"
      ]
     },
     "execution_count": 16,
     "metadata": {},
     "output_type": "execute_result"
    }
   ],
   "source": [
    "# Print out a list of the science files. For the exampel distro\n",
    "# we just include the FPMA 01 cleaned event file:\n",
    "obs.science_files"
   ]
  },
  {
   "cell_type": "code",
   "execution_count": 17,
   "metadata": {},
   "outputs": [
    {
     "name": "stdout",
     "output_type": "stream",
     "text": [
      "Exposure for FPMA, mode 01 is:      39.98 ks\n",
      "Exposure for FPMA, mode 03 is:   0.004635 ks\n",
      "Exposure for FPMA, mode 04 is:        0.0 ks\n",
      "Exposure for FPMA, mode 06 is:      2.107 ks\n",
      "\n",
      "Exposure for FPMB, mode 01 is:      39.97 ks\n",
      "Exposure for FPMB, mode 03 is:   0.004647 ks\n",
      "Exposure for FPMB, mode 04 is:        0.0 ks\n",
      "Exposure for FPMB, mode 06 is:      2.108 ks\n",
      "\n"
     ]
    }
   ],
   "source": [
    "# Get a nicely formatted report of how much exposure is in each type of file.\n",
    "# Note that only 01 and 06 are \"scinece\" data files. See the software user's\n",
    "# guide.\n",
    "#Example data only has the FPMA data file. Full data sets will report the \n",
    "obs.exposure_report()"
   ]
  },
  {
   "cell_type": "code",
   "execution_count": 18,
   "metadata": {},
   "outputs": [],
   "source": [
    "# Pull down the background report PDFs from the SOC.\n",
    "# This puts the PDFs in the obs.out_path directory\n",
    "obs.download_bgd_report()"
   ]
  },
  {
   "cell_type": "code",
   "execution_count": 19,
   "metadata": {},
   "outputs": [
    {
     "data": {
      "text/plain": [
       "{'A': ['../data/30001039002/event_cl/nu30001039002A01_cl.evt'],\n",
       " 'B': ['../data/30001039002/event_cl/nu30001039002B01_cl.evt']}"
      ]
     },
     "execution_count": 19,
     "metadata": {},
     "output_type": "execute_result"
    }
   ],
   "source": [
    "obs.science_files"
   ]
  },
  {
   "cell_type": "code",
   "execution_count": null,
   "metadata": {},
   "outputs": [],
   "source": []
  }
 ],
 "metadata": {
  "kernelspec": {
   "display_name": "Python 3",
   "language": "python",
   "name": "python3"
  },
  "language_info": {
   "codemirror_mode": {
    "name": "ipython",
    "version": 3
   },
   "file_extension": ".py",
   "mimetype": "text/x-python",
   "name": "python",
   "nbconvert_exporter": "python",
   "pygments_lexer": "ipython3",
   "version": "3.7.3"
  }
 },
 "nbformat": 4,
 "nbformat_minor": 4
}
