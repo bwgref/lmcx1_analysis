{
 "cells": [
  {
   "cell_type": "code",
   "execution_count": 12,
   "metadata": {},
   "outputs": [],
   "source": [
    "from importlib import reload\n",
    "from nustar_gen import wrappers, info\n",
    "reload(info)\n",
    "reload(wrappers)\n",
    "import os\n",
    "\n",
    "here = os.getcwd()\n",
    "top = os.path.dirname(here)\n"
   ]
  },
  {
   "cell_type": "code",
   "execution_count": 13,
   "metadata": {},
   "outputs": [
    {
     "name": "stdout",
     "output_type": "stream",
     "text": [
      "/Users/bwgref/science/local/git/lmcx1_analysis/products/30001039002/spectra/runspec_nu30001039002A01_srcA01.sh\n",
      "/Users/bwgref/science/local/git/lmcx1_analysis/products/30001143002/spectra/runspec_nu30001143002A01_srcA01.sh\n",
      "/Users/bwgref/science/local/git/lmcx1_analysis/products/30201029002/spectra/runspec_nu30201029002A01_srcA01.sh\n",
      "/Users/bwgref/science/local/git/lmcx1_analysis/products/30001039002/spectra/runspec_nu30001039002B01_srcB01.sh\n",
      "/Users/bwgref/science/local/git/lmcx1_analysis/products/30001143002/spectra/runspec_nu30001143002B01_srcB01.sh\n",
      "/Users/bwgref/science/local/git/lmcx1_analysis/products/30201029002/spectra/runspec_nu30201029002B01_srcB01.sh\n"
     ]
    }
   ],
   "source": [
    "for mod in ['A', 'B']:\n",
    "    for seqid in ['30001039002','30001143002', '30201029002']:\n",
    "        obs = info.Observation(path=f'{top}/data/', seqid=seqid)\n",
    "        evfile = obs.science_files[mod][0]\n",
    "        regfile = obs._evdir+f'src{mod}01.reg'\n",
    "        bgdreg = obs._evdir+f'bgd{mod}01.reg'\n",
    "        \n",
    "        obs.set_outpath = f'{top}/products/{obs.seqid}/spectra'\n",
    "\n",
    "\n",
    "        shfile = wrappers.make_spectra(evfile, mod, regfile, outpath=obs.out_path)\n",
    "        print(shfile)"
   ]
  }
 ],
 "metadata": {
  "kernelspec": {
   "display_name": "Python 3",
   "language": "python",
   "name": "python3"
  },
  "language_info": {
   "codemirror_mode": {
    "name": "ipython",
    "version": 3
   },
   "file_extension": ".py",
   "mimetype": "text/x-python",
   "name": "python",
   "nbconvert_exporter": "python",
   "pygments_lexer": "ipython3",
   "version": "3.7.3"
  }
 },
 "nbformat": 4,
 "nbformat_minor": 4
}
