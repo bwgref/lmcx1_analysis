{
 "cells": [
  {
   "cell_type": "code",
   "execution_count": 1,
   "metadata": {},
   "outputs": [],
   "source": [
    "from nustar_gen.radial_profile import find_source, make_radial_profile, optimize_radius_snr\n",
    "from nustar_gen.wrappers import make_image\n",
    "\n",
    "from astropy.wcs import WCS\n",
    "from astropy.io import fits\n",
    "from astropy.coordinates import SkyCoord\n",
    "import numpy as np"
   ]
  },
  {
   "cell_type": "code",
   "execution_count": 2,
   "metadata": {},
   "outputs": [
    {
     "name": "stdout",
     "output_type": "stream",
     "text": [
      "Exposure for FPMA, mode 01 is:      39.98 ks\n",
      "Exposure for FPMA, mode 03 is:   0.004635 ks\n",
      "Exposure for FPMA, mode 04 is:        0.0 ks\n",
      "Exposure for FPMA, mode 06 is:      4.201 ks\n",
      "\n",
      "Exposure for FPMB, mode 01 is:      39.97 ks\n",
      "Exposure for FPMB, mode 03 is:   0.004647 ks\n",
      "Exposure for FPMB, mode 04 is:        0.0 ks\n",
      "Exposure for FPMB, mode 06 is:      4.204 ks\n",
      "\n"
     ]
    },
    {
     "data": {
      "text/plain": [
       "{'A': ['../data/30001039002/event_cl/nu30001039002A01_cl.evt',\n",
       "  '../data/30001039002/event_cl/nu30001039002A06_chu13_N_cl.evt',\n",
       "  '../data/30001039002/event_cl/nu30001039002A06_chu3_N_cl.evt',\n",
       "  '../data/30001039002/event_cl/nu30001039002A06_cl.evt'],\n",
       " 'B': ['../data/30001039002/event_cl/nu30001039002B01_cl.evt',\n",
       "  '../data/30001039002/event_cl/nu30001039002B06_chu13_N_cl.evt',\n",
       "  '../data/30001039002/event_cl/nu30001039002B06_chu3_N_cl.evt',\n",
       "  '../data/30001039002/event_cl/nu30001039002B06_cl.evt']}"
      ]
     },
     "execution_count": 2,
     "metadata": {},
     "output_type": "execute_result"
    }
   ],
   "source": [
    "from nustar_gen import info\n",
    "obs = info.Observation(path='../data/', seqid='30001039002')\n",
    "obs.exposure_report()\n",
    "obs.science_files"
   ]
  },
  {
   "cell_type": "code",
   "execution_count": null,
   "metadata": {},
   "outputs": [],
   "source": [
    "mod='A'\n",
    "infile = obs.science_files[mod][0]\n",
    "print(infile)\n",
    "full_range = make_image(infile, elow = 3, ehigh = 80, clobber=True)\n",
    "coordinates = find_source(full_range, show_image = True, filt_range=3)"
   ]
  },
  {
   "cell_type": "code",
   "execution_count": null,
   "metadata": {},
   "outputs": [],
   "source": [
    "# Get the WCS header and convert the pixel coordinates into an RA/Dec object\n",
    "hdu = fits.open(full_range, uint=True)[0]\n",
    "wcs = WCS(hdu.header)\n",
    "\n",
    "# The \"flip\" is necessary to go to [X, Y] ordering from native [Y, X] ordering, which wcs seems to require\n",
    "world = wcs.all_pix2world(np.flip(coordinates), 0)\n",
    "ra = world[0][0]\n",
    "dec = world[0][1]\n",
    "target = SkyCoord(ra, dec, unit='deg', frame='fk5')\n",
    "print(target)\n",
    "obj_j2000 = SkyCoord(hdu.header['RA_OBJ'], hdu.header['DEC_OBJ'], unit = 'deg', frame ='fk5')\n",
    "\n",
    "# How far are we from the J2000 coordinates? If <15 arcsec, all is okay\n",
    "sep = target.separation(obj_j2000)\n",
    "print(sep)\n"
   ]
  },
  {
   "cell_type": "code",
   "execution_count": null,
   "metadata": {},
   "outputs": [],
   "source": [
    "# Now the radial image parts.\n",
    "\n",
    "# Make the radial image for the full energy range (or whatever is the best SNR)\n",
    "full_range = make_image(infile, elow = 3, ehigh = 80, clobber=True)\n",
    "rind, rad_profile, radial_err, psf_profile = make_radial_profile(full_range, show_image=False,\n",
    "                                                                 coordinates = coordinates)"
   ]
  },
  {
   "cell_type": "code",
   "execution_count": null,
   "metadata": {},
   "outputs": [],
   "source": [
    "# Pick energy ranges that you want to check.\n",
    "\n",
    "# Note that this formalism breaks down when the source isn't detected, so use your best judgement here.\n",
    "\n",
    "# Below should be used as a \"best guess\" when choosing a radius for spectral extraction.\n",
    "\n",
    "# For the 3-20 keV case, the source dominates out the edge of the FoV (and the assumptoons about the PSF\n",
    "# start to break down in the fit).\n",
    "\n",
    "# This a soft source (LMC X-1), so for 20-30 keV we already see that we need to restrict the radius that we\n",
    "# use so that we're not just adding noise to the spectrum.\n",
    "\n",
    "pairs = [[3, 20], [20, 30], [30, 40], [40, 50], [50, 80]]\n",
    "coordinates = find_source(full_range, show_image = False)\n",
    "for pair in pairs:\n",
    "    test_file = make_image(infile, elow = pair[0], ehigh = pair[1], clobber=True)\n",
    "    rind, rad_profile, radial_err, psf_profile = make_radial_profile(test_file, show_image=False,\n",
    "                                                                     coordinates = coordinates)\n",
    "    rlimit = optimize_radius_snr(rind, rad_profile, radial_err, psf_profile, show=True)\n",
    "    print('Radius of peak SNR for {} to {} keV: {}'.format(\n",
    "            pair[0], pair[1], rlimit))"
   ]
  },
  {
   "cell_type": "code",
   "execution_count": null,
   "metadata": {},
   "outputs": [],
   "source": [
    "import regions\n",
    "import astropy.units as u"
   ]
  },
  {
   "cell_type": "code",
   "execution_count": null,
   "metadata": {},
   "outputs": [],
   "source": [
    "source_reg = [regions.CircleSkyRegion(center=target, radius=60*u.arcsec)]\n",
    "outfile = '../data/30001039002/event_cl/srcB01.reg'\n",
    "regions.write_ds9(source_reg, outfile, radunit='arcsec')"
   ]
  },
  {
   "cell_type": "code",
   "execution_count": null,
   "metadata": {},
   "outputs": [],
   "source": []
  }
 ],
 "metadata": {
  "kernelspec": {
   "display_name": "Python 3",
   "language": "python",
   "name": "python3"
  },
  "language_info": {
   "codemirror_mode": {
    "name": "ipython",
    "version": 3
   },
   "file_extension": ".py",
   "mimetype": "text/x-python",
   "name": "python",
   "nbconvert_exporter": "python",
   "pygments_lexer": "ipython3",
   "version": "3.7.3"
  }
 },
 "nbformat": 4,
 "nbformat_minor": 4
}
