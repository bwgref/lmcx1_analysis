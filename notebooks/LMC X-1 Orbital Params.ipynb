{
 "cells": [
  {
   "cell_type": "code",
   "execution_count": 2,
   "metadata": {
    "collapsed": false,
    "jupyter": {
     "outputs_hidden": false
    }
   },
   "outputs": [],
   "source": [
    "from astropy.constants import G, c, M_sun, R_sun\n",
    "from math import pi\n",
    "from astropy import units as u\n",
    "from math import pow\n",
    "import numpy as np"
   ]
  },
  {
   "cell_type": "markdown",
   "metadata": {},
   "source": [
    "# For LMC X-1 (M1 = Black Hole, M2 = Companion).\n",
    "\n",
    "Orosz, J. A., Steeghs, D., McClintock, J. E., Torres, M. A. P., Bochkov, I., Gou, L., et al. (2009). A NEW DYNAMICAL MODEL FOR THE BLACK HOLE BINARY LMC X-1. The Astrophysical Journal, 697(1), 573–591. http://doi.org/10.1088/0004-637X/697/1/573\n",
    "\n",
    "Also \n",
    "\n",
    "Hyde 2017: https://ui.adsabs.harvard.edu/abs/2017PASP..129i4201H/abstract\n",
    "\n",
    "...especially Table 4"
   ]
  },
  {
   "cell_type": "code",
   "execution_count": 3,
   "metadata": {},
   "outputs": [],
   "source": [
    "m1 = 10.8 * u.Msun\n",
    "m2 = 31.79 * u.Msun\n",
    "period = 3.909 * u.day\n",
    "r2 = 17.0 * u.Rsun\n",
    "vwind_inf = 1400 * u.km / u.s\n",
    "inclin = 36.38 * u.deg\n",
    "r2_rot = ((130) * u.km / u.s) / np.sin(inclin)"
   ]
  },
  {
   "cell_type": "markdown",
   "metadata": {},
   "source": [
    "# Orbital Parameters"
   ]
  },
  {
   "cell_type": "code",
   "execution_count": 4,
   "metadata": {
    "collapsed": false,
    "jupyter": {
     "outputs_hidden": false
    }
   },
   "outputs": [
    {
     "name": "stdout",
     "output_type": "stream",
     "text": [
      "Separation:   0.1696 AU\n",
      "Separatiom (light seconds):    84.63 s\n",
      "Separation : 36.46892143322825 solRad\n",
      "Orbital velocity: 471.99 km / s\n",
      "\n"
     ]
    }
   ],
   "source": [
    "period = period.to(u.yr)\n",
    "a = (((m1 + m2) * period**2)**(1/3)).value * u.au\n",
    "print(f'Separation: {a:8.4}')\n",
    "print(f'Separatiom (light seconds): {a.to(u.m)/c:8.4}')\n",
    "print(f'Separation : {a.to(u.Rsun)}')\n",
    "\n",
    "\n",
    "# BH orbital velocity:\n",
    "orb_vel = np.sqrt(G * (m1 + m2).to(u.kg) / a.to(u.m))\n",
    "orb_vel = orb_vel.to(u.km / u.s)\n",
    "print(f\"Orbital velocity: {orb_vel:6.5}\")\n",
    "print()"
   ]
  },
  {
   "cell_type": "code",
   "execution_count": 8,
   "metadata": {
    "collapsed": false,
    "jupyter": {
     "outputs_hidden": false
    }
   },
   "outputs": [
    {
     "name": "stdout",
     "output_type": "stream",
     "text": [
      "Schwarzschild Radius:    31895.1 m\n",
      "Schwarzschild Radius:   106.3906 us\n",
      "Schwarzschild Radius:    0.005 earthRad\n",
      "Schwarzschild Radius: 4.58e-05 solRad\n"
     ]
    }
   ],
   "source": [
    "# Non-spinning black hole r_G\n",
    "rG = (2 * m1.to(u.kg) * G) / (c**2)\n",
    "print(f'Schwarzschild Radius: {rG:10.7}')\n",
    "print(f'Schwarzschild Radius: {(rG/c).to(u.us):10.7}')\n",
    "print(f'Schwarzschild Radius: {rG.to(u.earthRad):8.3}')\n",
    "print(f'Schwarzschild Radius: {rG.to(u.Rsun):8.3}')\n",
    "\n",
    "\n"
   ]
  },
  {
   "cell_type": "markdown",
   "metadata": {},
   "source": [
    "# Wind accretion calculations\n",
    "\n",
    "Shakura 2014: https://arxiv.org/pdf/1407.3163.pdf\n",
    "\n",
    "Negueruela http://adsabs.harvard.edu/full/2010ASPC..422...57N\n",
    "\n",
    "Edgar 2004: https://ui.adsabs.harvard.edu/abs/2004NewAR..48..843E/abstract\n",
    "\n",
    "Disk physics: https://www-aanda-org.clsproxy.library.caltech.edu/articles/aa/pdf/2019/02/aa34498-18.pdf\n"
   ]
  },
  {
   "cell_type": "code",
   "execution_count": 14,
   "metadata": {
    "collapsed": false,
    "jupyter": {
     "outputs_hidden": false
    }
   },
   "outputs": [],
   "source": [
    "from astropy import units as u\n",
    "\n",
    "def wind_velocity(r, beta = 1.0, v_inf = 1000*u.km / u.s):\n",
    "    '''\n",
    "    From Negueruela eqn 1. Computes the wind velocity for a line driven\n",
    "    wind as a function of distance from the star.\n",
    "    \n",
    "    Parameters\n",
    "    ----------\n",
    "    r: float\n",
    "        Distane, scaled by the radius of the OB star (i.e. r = r_d / R_star)\n",
    "\n",
    "    '''\n",
    "    \n",
    "    return v_inf * (1 - r**-1)**(beta)\n",
    "\n"
   ]
  },
  {
   "cell_type": "code",
   "execution_count": 15,
   "metadata": {
    "collapsed": false,
    "jupyter": {
     "outputs_hidden": false
    }
   },
   "outputs": [
    {
     "name": "stdout",
     "output_type": "stream",
     "text": [
      "Wind speec at BH: 747.389528819054 km / s\n",
      "Relative local speed of gas to BH:    833.9 km / s\n",
      "Accretion radius:     5.926 solRad\n",
      "Accretion radius / separation:    0.1625\n",
      "Accretion radius / rG :1.292e+05\n"
     ]
    }
   ],
   "source": [
    "# Tangential rotational velocity at BH:\n",
    "v_tan = orb_vel -  (r2 / a.to(u.Rsun))* r2_rot\n",
    "\n",
    "wind_speed = wind_velocity(a.to(u.m) / r2.to(u.m), v_inf =vwind_inf )\n",
    "print(f'Wind speec at BH: {wind_speed}')\n",
    "v_rel = np.sqrt(wind_speed**2 + v_tan**2)\n",
    "print(f'Relative local speed of gas to BH: {v_rel:8.4}')\n",
    "\n",
    "r_acc = (2 * G * m1.to(u.kg) / (v_rel**2)).to(u.Rsun)\n",
    "print(f'Accretion radius: {r_acc:9.4}')\n",
    "print(f'Accretion radius / separation: {r_acc.to(u.au)/a:9.4}')\n",
    "print(f'Accretion radius / rG :{r_acc / rG.to(u.Rsun):9.4}')\n",
    "\n",
    "\n"
   ]
  },
  {
   "cell_type": "code",
   "execution_count": 106,
   "metadata": {
    "collapsed": false,
    "jupyter": {
     "outputs_hidden": false
    }
   },
   "outputs": [],
   "source": [
    "# M =M =4.52 ́10-7M yr from Vink et al 2001:\n",
    "m2_massloss = 4.52e-7 * u.Msun / u.yr\n",
    "density = (m2_massloss / (4 * np.pi * a**2 * wind_speed)).to(u.g/u.cm**3)\n",
    "print(f'Density of wind at BH: {density:8.4}')\n",
    "\n",
    "# Bondi-Hoyle 1944:\n",
    "\n",
    "m1_mass_rate = (np.pi * r_acc**2 * density * v_rel).to(u.Msun / u.yr)\n",
    "print(f'Accretion rate: {m1_mass_rate:9.4}')"
   ]
  },
  {
   "cell_type": "code",
   "execution_count": 115,
   "metadata": {
    "collapsed": false,
    "jupyter": {
     "outputs_hidden": false
    }
   },
   "outputs": [],
   "source": [
    "# Free-fall timescale:\n",
    "tau_ff = np.sqrt(3 * np.pi / (G * density)).to(u.s)\n",
    "print(tau_ff)\n",
    "print(density)"
   ]
  },
  {
   "cell_type": "code",
   "execution_count": 115,
   "metadata": {
    "collapsed": false,
    "jupyter": {
     "outputs_hidden": false
    }
   },
   "outputs": [
    {
     "name": "stdout",
     "output_type": "stream",
     "text": [
      "173135398918.53555 s\n",
      "4.7109443658290194e-15 g / cm3\n"
     ]
    }
   ],
   "source": [
    "# Angular momentum of material in the accretion capture:\n",
    "\n",
    "\n"
   ]
  },
  {
   "cell_type": "markdown",
   "metadata": {},
   "source": [
    "# Roche Lobe of the Secondary\n",
    "\n",
    "Eggelton ratio\n",
    "http://articles.adsabs.harvard.edu/pdf/1983ApJ...268..368E"
   ]
  },
  {
   "cell_type": "code",
   "execution_count": 9,
   "metadata": {
    "collapsed": false,
    "jupyter": {
     "outputs_hidden": false
    }
   },
   "outputs": [
    {
     "name": "stdout",
     "output_type": "stream",
     "text": [
      "Eggeleton Ratio: 0.474\n"
     ]
    }
   ],
   "source": [
    "q = m2 / m1\n",
    "eggleton_ratio = (0.49 * q ** (2/3.)) / (0.6 * q**(2/3.) + np.log(1 + q**(1/3.)) )\n",
    "print(f'Eggeleton Ratio: {eggleton_ratio:5.3}')"
   ]
  },
  {
   "cell_type": "code",
   "execution_count": 10,
   "metadata": {
    "collapsed": false,
    "jupyter": {
     "outputs_hidden": false
    }
   },
   "outputs": [
    {
     "name": "stdout",
     "output_type": "stream",
     "text": [
      "Orbital velocity: 325789.53939213336 m / s\n",
      "\n",
      "Fraction of wind captured: 0.006408145820594852\n",
      "\n",
      "Orbital angular velocity: 6.117755735901246e-06 1 / s\n",
      "\n",
      "Circularization radius fraction compared to orbital sep: 7.987309258119215e-06\n",
      "Circularization radius in m: 425349.08 m\n",
      "Circularization radius in Rg: 13.335875\n"
     ]
    }
   ],
   "source": [
    "q2 = m1/ m2\n",
    "#vel_bh = 200.0 * ( (m1 / M_sun)**(1/3.) )*((1.0 + q2)**(1/3.))*period.value**(-1/3.) * u.km / u.s\n",
    "#print(f\"Approximate orbital velocity: {vel_bh}\")\n",
    "#print()\n",
    "vel = np.sqrt(G * (m1 + m2) / a)\n",
    "print(f\"Orbital velocity: {vel}\")\n",
    "print()\n",
    "\n",
    "\n",
    "frac_captured = (0.25 ) * (m1 / m2)**2 * (r2 / a)\n",
    "print(f\"Fraction of wind captured: {frac_captured}\")\n",
    "print()\n",
    "orb_ang = vel / a\n",
    "print(f\"Orbital angular velocity: {orb_ang}\")\n",
    "print()\n",
    "lamb= 1.0\n",
    "rcirc_to_a = (m1**3 * (m1 + m2) / (16 * lamb**4 * m2**4)) * (r2 / a)**4\n",
    "print(f\"Circularization radius fraction compared to orbital sep: {rcirc_to_a}\")\n",
    "print(f\"Circularization radius in m: {rcirc_to_a*a:8.8}\")\n",
    "print(f\"Circularization radius in Rg: {rcirc_to_a * a / rg:8.8}\") "
   ]
  },
  {
   "cell_type": "markdown",
   "metadata": {},
   "source": [
    "# For Cyg X-1 (M1 = Black Hole, M2 = Companion).\n",
    "\n",
    "Orosz, J. A., McClintock, J. E., Aufdenberg, J. P., Remillard, R. A., Reid, M. J., Narayan, R., & Gou, L. (2011). THE MASS OF THE BLACK HOLE IN CYGNUS X-1. Astrophysical Journal, 742(2), 84. http://doi.org/10.1088/0004-637X/742/2/84"
   ]
  },
  {
   "cell_type": "code",
   "execution_count": null,
   "metadata": {},
   "outputs": [],
   "source": [
    "m1 = 14.8 * M_sun\n",
    "m2 = 19.2 * M_sun\n",
    "period = 5.5999 * u.day"
   ]
  },
  {
   "cell_type": "markdown",
   "metadata": {},
   "source": [
    "# Orbital Parameters"
   ]
  },
  {
   "cell_type": "code",
   "execution_count": null,
   "metadata": {
    "collapsed": false,
    "jupyter": {
     "outputs_hidden": false
    }
   },
   "outputs": [],
   "source": [
    "period = period.to(u.s)\n",
    "a3 = G * (period**2) * ( (m1 + m2)/ m1*m2) / (4*pi)\n",
    "a = a3**(1/3.)\n",
    "print 'Separation (m): ', a\n",
    "\n",
    "a.to(u.au)\n",
    "print 'Separation (AU): ', a.to(u.au)\n",
    "print 'Light seconds: ', a / c"
   ]
  },
  {
   "cell_type": "code",
   "execution_count": null,
   "metadata": {
    "collapsed": false,
    "jupyter": {
     "outputs_hidden": false
    }
   },
   "outputs": [],
   "source": [
    "rg = (2 * m1 * G) / (c**2)\n",
    "print 'Schwarzschild Radius: ', rg"
   ]
  },
  {
   "cell_type": "code",
   "execution_count": null,
   "metadata": {
    "collapsed": false,
    "jupyter": {
     "outputs_hidden": false
    }
   },
   "outputs": [],
   "source": [
    "# Flux in flare region\n",
    "flux = 4.172e-11 / (u.cm)**2\n",
    "d = (50 * u.kpc).to(u.cm)\n",
    "\n",
    "area = 4 * np.pi *d**2\n",
    "print(area * flux)"
   ]
  },
  {
   "cell_type": "code",
   "execution_count": 2,
   "metadata": {},
   "outputs": [
    {
     "name": "stdout",
     "output_type": "stream",
     "text": [
      "3.0783073766282913\n"
     ]
    }
   ],
   "source": [
    "print(5 * np.sin(38*u.deg))"
   ]
  },
  {
   "cell_type": "code",
   "execution_count": null,
   "metadata": {},
   "outputs": [],
   "source": []
  }
 ],
 "metadata": {
  "anaconda-cloud": {},
  "kernelspec": {
   "display_name": "Python 3",
   "language": "python",
   "name": "python3"
  },
  "language_info": {
   "codemirror_mode": {
    "name": "ipython",
    "version": 3
   },
   "file_extension": ".py",
   "mimetype": "text/x-python",
   "name": "python",
   "nbconvert_exporter": "python",
   "pygments_lexer": "ipython3",
   "version": "3.7.3"
  }
 },
 "nbformat": 4,
 "nbformat_minor": 4
}
