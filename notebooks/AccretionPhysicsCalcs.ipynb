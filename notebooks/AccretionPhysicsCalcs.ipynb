{
 "cells": [
  {
   "cell_type": "code",
   "execution_count": 13,
   "metadata": {},
   "outputs": [],
   "source": [
    "from astropy.constants import G, c, M_sun, R_sun\n",
    "from math import pi\n",
    "from astropy import units as u\n",
    "from math import pow\n",
    "import numpy as np"
   ]
  },
  {
   "cell_type": "code",
   "execution_count": 61,
   "metadata": {},
   "outputs": [
    {
     "name": "stdout",
     "output_type": "stream",
     "text": [
      "Separation:   0.1696 AU\n",
      "Separation (light seconds):    84.63 s\n",
      "Orbital velocity: 471.99 km / s\n",
      "\n",
      "Schwarzschild Radius:    31895.1 m\n",
      "Schwarzschild Radius:    0.005 earthRad\n"
     ]
    }
   ],
   "source": [
    "m1 = 10.8 * u.Msun\n",
    "m2 = 31.79 * u.Msun\n",
    "period = 3.909 * u.day\n",
    "omega = (2 * pi / period)\n",
    "r2 = 17.0 * u.Rsun\n",
    "\n",
    "vwind_inf = 1400 * u.km / u.s\n",
    "inclin = 36.38 * u.deg\n",
    "r2_rot = ((130) * u.km / u.s) / np.sin(inclin)\n",
    "\n",
    "period = period.to(u.yr)\n",
    "a = (((m1 + m2) * period**2)**(1/3)).value * u.au\n",
    "print(f'Separation: {a:8.4}')\n",
    "print(f'Separation (light seconds): {a.to(u.m)/c:8.4}')\n",
    "\n",
    "# BH orbital velocity:\n",
    "orb_vel = np.sqrt(G * (m1 + m2).to(u.kg) / a.to(u.m))\n",
    "orb_vel = orb_vel.to(u.km / u.s)\n",
    "print(f\"Orbital velocity: {orb_vel:6.5}\")\n",
    "print()\n",
    "\n",
    "# Non-spinning black hole r_G\n",
    "rG = (2 * m1.to(u.kg) * G) / (c**2)\n",
    "print(f'Schwarzschild Radius: {rG:10.7}')\n",
    "print(f'Schwarzschild Radius: {rG.to(u.earthRad):8.3}')"
   ]
  },
  {
   "cell_type": "code",
   "execution_count": 15,
   "metadata": {},
   "outputs": [],
   "source": [
    "\n",
    "def wind_velocity(r, beta = 1.0, v_inf = 1000*u.km / u.s):\n",
    "    '''\n",
    "    From Negueruela eqn 1. Computes the wind velocity for a line driven\n",
    "    wind as a function of distance from the star.\n",
    "    \n",
    "    Parameters\n",
    "    ----------\n",
    "    r: float\n",
    "        Distane, scaled by the radius of the OB star (i.e. r = r_d / R_star)\n",
    "\n",
    "    '''\n",
    "    \n",
    "    return v_inf * (1 - r**-1)**(beta)\n",
    "\n"
   ]
  },
  {
   "cell_type": "code",
   "execution_count": 17,
   "metadata": {},
   "outputs": [
    {
     "name": "stdout",
     "output_type": "stream",
     "text": [
      "Wind speec at BH: 747.389528819054 km / s\n",
      "Relative local speed of gas to BH:    833.9 km / s\n",
      "Accretion radius:     5.926 solRad\n"
     ]
    }
   ],
   "source": [
    "# Tangential rotational velocity at BH:\n",
    "v_tan = orb_vel -  (r2 / a.to(u.Rsun))* r2_rot\n",
    "\n",
    "wind_speed = wind_velocity(a.to(u.m) / r2.to(u.m), v_inf =vwind_inf )\n",
    "print(f'Wind speec at BH: {wind_speed}')\n",
    "v_rel = np.sqrt(wind_speed**2 + v_tan**2)\n",
    "print(f'Relative local speed of gas to BH: {v_rel:8.4}')\n",
    "\n",
    "r_acc = (2 * G * m1.to(u.kg) / (v_rel**2)).to(u.Rsun)\n",
    "print(f'Accretion radius: {r_acc:9.4}')\n"
   ]
  },
  {
   "cell_type": "markdown",
   "metadata": {},
   "source": [
    "Okay, now play with critical angular momentum from Beloborodov 2001\n",
    "\n",
    " https://ui.adsabs.harvard.edu/abs/2001MNRAS.323..167B/abstract\n",
    "\n"
   ]
  },
  {
   "cell_type": "code",
   "execution_count": 41,
   "metadata": {},
   "outputs": [
    {
     "name": "stdout",
     "output_type": "stream",
     "text": [
      "11.021531505694373\n"
     ]
    }
   ],
   "source": [
    "lstar = 0.75 * rG * c\n",
    "eta = 1\n",
    "\n",
    "l_ave = (eta * 0.25 * omega * (r_acc**2)).to(u.m**2 / u.s)\n",
    "\n",
    "print(l_ave / lstar)\n",
    "\n",
    "\n"
   ]
  },
  {
   "cell_type": "markdown",
   "metadata": {},
   "source": [
    "Now look at the mass accretion rate:"
   ]
  },
  {
   "cell_type": "code",
   "execution_count": 42,
   "metadata": {},
   "outputs": [
    {
     "name": "stdout",
     "output_type": "stream",
     "text": [
      "Density of wind at BH: 4.711e-15 g / cm3\n",
      "Accretion rate: 3.329e-09 solMass / yr\n"
     ]
    }
   ],
   "source": [
    "# M = M =4.52 ́10-7M yr from Vink et al 2001:\n",
    "m2_massloss = 4.52e-7 * u.Msun / u.yr\n",
    "density = (m2_massloss / (4 * np.pi * a**2 * wind_speed)).to(u.g/u.cm**3)\n",
    "print(f'Density of wind at BH: {density:8.4}')\n",
    "\n",
    "# Bondi-Hoyle 1944:\n",
    "\n",
    "m1_mass_rate = (np.pi * r_acc**2 * density * v_rel).to(u.Msun / u.yr)\n",
    "print(f'Accretion rate: {m1_mass_rate:9.4}')"
   ]
  },
  {
   "cell_type": "code",
   "execution_count": 113,
   "metadata": {},
   "outputs": [],
   "source": [
    "# Figure out what the outer diameter of the accretion disk is supposed to be\n",
    "r_d = 0.25 * (v_rel * a.to(u.km))**2 * (r_acc.to(u.km) / a.to(u.km))**4 / (G * m1.to(u.kg))\n",
    "my_rd = ( (r_d.to(u.m) / rG))\n",
    "\n",
    "# Outer diameter at 1700 rG. \n",
    "\n",
    "# From Shapiro 1976\n",
    "v_esc = (((2 * G * m1.to(u.kg) / r2.to(u.m))**0.5)).to(u.km / u.s)\n",
    "ratio_to_isco = 160 * ( (v_esc / wind_speed)**8)\n",
    "ratio_to_isco *=  ( ( 1 + (orb_vel/wind_speed)**2) **(-4))\n",
    "ratio_to_isco *= (m2 / (10*u.Msun))**2\n",
    "ratio_to_isco *= (m1 / (30*u.Msun))**-4\n",
    "ratio_to_isco *= (period.to(u.d) / (5.6*u.d))**(-4/3)\n",
    "ratio_to_isco *= (m2_massloss / (1e-6 * u.Msun / u.yr))"
   ]
  },
  {
   "cell_type": "code",
   "execution_count": 115,
   "metadata": {},
   "outputs": [
    {
     "name": "stdout",
     "output_type": "stream",
     "text": [
      "2.6222503634184418\n"
     ]
    }
   ],
   "source": [
    "print(my_rd / ratio_to_isco)"
   ]
  },
  {
   "cell_type": "code",
   "execution_count": 135,
   "metadata": {},
   "outputs": [],
   "source": [
    "# Free fall time at R_acc (Illarionov 1974)\n",
    "t = (r_acc.to(u.m)**(3/2)) / (2 * G * m1.to(u.kg))**0.5\n",
    "# Cooling time due to bremsstrahlung\n",
    "# Accretion shock temperature:\n",
    "shock_temp = 4e7 * (wind_speed.to(u.cm / u.s).value * 1e-8)**2 * (r_acc / r_acc) * u.K\n",
    "t_bremss = 3e11 * (shock_temp**0.5) / density"
   ]
  },
  {
   "cell_type": "code",
   "execution_count": 136,
   "metadata": {},
   "outputs": [
    {
     "data": {
      "text/latex": [
       "$3.0101649 \\times 10^{29} \\; \\mathrm{\\frac{cm^{3}\\,K^{1/2}}{g}}$"
      ],
      "text/plain": [
       "<Quantity 3.01016488e+29 cm3 K(1/2) / g>"
      ]
     },
     "execution_count": 136,
     "metadata": {},
     "output_type": "execute_result"
    }
   ],
   "source": [
    "t_bremss"
   ]
  },
  {
   "cell_type": "code",
   "execution_count": null,
   "metadata": {},
   "outputs": [],
   "source": []
  }
 ],
 "metadata": {
  "kernelspec": {
   "display_name": "Python 3",
   "language": "python",
   "name": "python3"
  },
  "language_info": {
   "codemirror_mode": {
    "name": "ipython",
    "version": 3
   },
   "file_extension": ".py",
   "mimetype": "text/x-python",
   "name": "python",
   "nbconvert_exporter": "python",
   "pygments_lexer": "ipython3",
   "version": "3.7.3"
  }
 },
 "nbformat": 4,
 "nbformat_minor": 4
}
